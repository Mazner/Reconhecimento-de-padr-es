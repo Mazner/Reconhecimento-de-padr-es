{
 "cells": [
  {
   "cell_type": "code",
   "execution_count": 1,
   "metadata": {},
   "outputs": [],
   "source": [
    "import numpy as np"
   ]
  },
  {
   "cell_type": "code",
   "execution_count": 2,
   "metadata": {},
   "outputs": [],
   "source": [
    "file_1 = './dataset/OpenBCI-RAW-2023-10-05_13-28-15.txt'\n",
    "file_2 = './dataset/OpenBCI-RAW-2023-10-05_13-44-46.txt'\n",
    "file_3 = './dataset/OpenBCI-RAW-2023-10-26_13-06-25.txt'\n",
    "file_4 = './dataset/OpenBCI-RAW-2023-11-28_15-22-35.txt'"
   ]
  },
  {
   "cell_type": "code",
   "execution_count": 5,
   "metadata": {},
   "outputs": [
    {
     "name": "stdout",
     "output_type": "stream",
     "text": [
      "(162693, 8)\n",
      "(105193, 8)\n"
     ]
    }
   ],
   "source": [
    "data = np.loadtxt(file_1, dtype=float, delimiter=',', skiprows=5, usecols=range(1, 9))\n",
    "print(data.shape)\n",
    "\n",
    "# Convert 8:03 minutes to seconds\n",
    "start_time = 3*60 + 50\n",
    "\n",
    "# Calculate the start sample\n",
    "start_sample = start_time * 250\n",
    "\n",
    "# Convert 20:36 minutes to seconds\n",
    "end_time = 13*60 + 39\n",
    "\n",
    "# Calculate the end sample\n",
    "end_sample = end_time * 250\n",
    "\n",
    "# Slice the data from the start sample to the end sample\n",
    "data = data[start_sample:end_sample, :]\n",
    "print(data.shape)\n",
    "\n",
    "np.save('../data.npy', data)"
   ]
  },
  {
   "cell_type": "code",
   "execution_count": 11,
   "metadata": {},
   "outputs": [
    {
     "name": "stdout",
     "output_type": "stream",
     "text": [
      "(162650, 8)\n",
      "(152500, 8)\n"
     ]
    }
   ],
   "source": [
    "data2 = np.loadtxt(file_2, dtype=float, delimiter=',', skiprows=5, usecols=range(1, 9))\n",
    "print(data2.shape)\n",
    "\n",
    "# Convert 8:03 minutes to seconds\n",
    "start_time = 5\n",
    "\n",
    "# Calculate the start sample\n",
    "start_sample = start_time * 250\n",
    "\n",
    "# Convert 20:36 minutes to seconds\n",
    "end_time = 10*60 + 15\n",
    "\n",
    "# Calculate the end sample\n",
    "end_sample = end_time * 250\n",
    "\n",
    "# Slice the data from the start sample to the end sample\n",
    "data2 = data2[start_sample:end_sample, :]\n",
    "print(data2.shape) \n",
    "\n",
    "np.save('../data2.npy', data2)"
   ]
  },
  {
   "cell_type": "code",
   "execution_count": 14,
   "metadata": {},
   "outputs": [
    {
     "name": "stdout",
     "output_type": "stream",
     "text": [
      "(158094, 8)\n",
      "(152750, 8)\n"
     ]
    }
   ],
   "source": [
    "data3 = np.loadtxt(file_3, dtype=float, delimiter=',', skiprows=5, usecols=range(1, 9))\n",
    "print(data3.shape)\n",
    "\n",
    "start_time = 4\n",
    "\n",
    "start_sample = start_time * 250\n",
    "\n",
    "end_time = 10*60 + 15\n",
    "\n",
    "# Calculate the end sample\n",
    "end_sample = end_time * 250\n",
    "\n",
    "# Slice the data from the start sample to the end sample\n",
    "data3 = data3[start_sample:end_sample, :]\n",
    "print(data3.shape) \n",
    "\n",
    "np.save('../data3.npy', data3)"
   ]
  },
  {
   "cell_type": "code",
   "execution_count": 15,
   "metadata": {},
   "outputs": [
    {
     "name": "stdout",
     "output_type": "stream",
     "text": [
      "(152301, 8)\n",
      "(120000, 8)\n"
     ]
    }
   ],
   "source": [
    "data4 = np.loadtxt(file_4, dtype=float, delimiter=',', skiprows=5, usecols=range(1, 9))\n",
    "print(data4.shape)\n",
    "\n",
    "start_time = 2*60\n",
    "\n",
    "start_sample = start_time * 250\n",
    "\n",
    "end_time = 10*60\n",
    "\n",
    "# Calculate the end sample\n",
    "end_sample = end_time * 250\n",
    "\n",
    "# Slice the data from the start sample to the end sample\n",
    "data4 = data4[start_sample:end_sample, :]\n",
    "print(data4.shape) \n",
    "\n",
    "np.save('../data4.npy', data4)"
   ]
  },
  {
   "cell_type": "code",
   "execution_count": null,
   "metadata": {},
   "outputs": [],
   "source": []
  }
 ],
 "metadata": {
  "kernelspec": {
   "display_name": "local",
   "language": "python",
   "name": "python3"
  },
  "language_info": {
   "codemirror_mode": {
    "name": "ipython",
    "version": 3
   },
   "file_extension": ".py",
   "mimetype": "text/x-python",
   "name": "python",
   "nbconvert_exporter": "python",
   "pygments_lexer": "ipython3",
   "version": "3.10.12"
  }
 },
 "nbformat": 4,
 "nbformat_minor": 2
}
