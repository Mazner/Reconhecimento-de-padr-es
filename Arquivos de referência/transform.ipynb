{
 "cells": [
  {
   "cell_type": "code",
   "execution_count": 7,
   "metadata": {},
   "outputs": [],
   "source": [
    "import numpy as np\n",
    "files = [\n",
    "        '../dataset/OpenBCI-RAW-2023-10-24_15-07-27.txt',\n",
    "        '../dataset/OpenBCI-RAW-2023-10-31_15-27-39.txt',\n",
    "        '../dataset/OpenBCI-RAW-2023-10-31_15-30-47.txt',\n",
    "        '../dataset/OpenBCI-RAW-2023-11-28_15-44-34.txt',\n",
    "        '../dataset/OpenBCI-RAW-2023-11-28_15-48-59.txt',\n",
    "        '../dataset/OpenBCI-RAW-2023-11-28_15-50-35.txt',\n",
    "        '../dataset/OpenBCI-RAW-2023-11-28_15-53-44.txt'\n",
    "]"
   ]
  },
  {
   "cell_type": "code",
   "execution_count": null,
   "metadata": {},
   "outputs": [],
   "source": [
    "# Initialize an empty list to hold the data arrays\n",
    "data_arrays = []\n",
    "\n",
    "for file in files:\n",
    "    # Load the data from the file\n",
    "    data = np.loadtxt(file, dtype=float, delimiter=',', skiprows=5, usecols=range(1, 9))\n",
    "    \n",
    "    # Crop the data\n",
    "    data = data[500:-750, :]\n",
    "    \n",
    "    # Add the data array to the list\n",
    "    data_arrays.append(data)\n",
    "\n",
    "# Concatenate all the data arrays along the first axis\n",
    "data_all = np.concatenate(data_arrays, axis=0)\n",
    "\n",
    "# Save the concatenated data\n",
    "np.save('../data.npy', data_all)\n"
   ]
  },
  {
   "cell_type": "code",
   "execution_count": 8,
   "metadata": {},
   "outputs": [
    {
     "name": "stdout",
     "output_type": "stream",
     "text": [
      "(376897, 8)\n"
     ]
    }
   ],
   "source": [
    "data_arrays = []\n",
    "\n",
    "file = '../dataset/OpenBCI-RAW-2023-10-24_15-07-27.txt'\n",
    "data = np.loadtxt(file, dtype=float, delimiter=',', skiprows=5, usecols=range(1, 9))\n",
    "\n",
    "# Assume the sampling rate is 250 Hz\n",
    "sampling_rate = 250\n",
    "\n",
    "# Calculate the number of samples that correspond to 3 seconds\n",
    "samples_to_skip = 3 * sampling_rate\n",
    "samples_to_end = int((15*60 + 27 + 0.36) * sampling_rate)\n",
    "\n",
    "\n",
    "# Crop the data\n",
    "data = data[samples_to_skip:-samples_to_end, :]\n",
    "data_arrays.append(data)\n",
    "\n",
    "# Print the shape of the data\n",
    "print(data.shape)"
   ]
  },
  {
   "cell_type": "code",
   "execution_count": 9,
   "metadata": {},
   "outputs": [
    {
     "name": "stdout",
     "output_type": "stream",
     "text": [
      "Shape of data for file ../dataset/OpenBCI-RAW-2023-10-24_15-07-27.txt: (376897, 8)\n",
      "Shape of data for file ../dataset/OpenBCI-RAW-2023-10-31_15-27-39.txt: (15864, 8)\n",
      "Shape of data for file ../dataset/OpenBCI-RAW-2023-10-31_15-30-47.txt: (408313, 8)\n",
      "Shape of data for file ../dataset/OpenBCI-RAW-2023-11-28_15-44-34.txt: (60704, 8)\n",
      "Shape of data for file ../dataset/OpenBCI-RAW-2023-11-28_15-48-59.txt: (12418, 8)\n",
      "Shape of data for file ../dataset/OpenBCI-RAW-2023-11-28_15-50-35.txt: (34440, 8)\n",
      "Shape of data for file ../dataset/OpenBCI-RAW-2023-11-28_15-53-44.txt: (78086, 8)\n"
     ]
    }
   ],
   "source": [
    "\n",
    "\n",
    "\n",
    "\n",
    "# Concatenate all the data arrays along the first axis\n",
    "data_all = np.concatenate(data_arrays, axis=0)\n",
    "\n",
    "# Save the concatenated data\n",
    "np.save('../data.npy', data_all)"
   ]
  },
  {
   "cell_type": "code",
   "execution_count": null,
   "metadata": {},
   "outputs": [],
   "source": []
  }
 ],
 "metadata": {
  "kernelspec": {
   "display_name": "reconhecimento_padroes",
   "language": "python",
   "name": "python3"
  },
  "language_info": {
   "codemirror_mode": {
    "name": "ipython",
    "version": 3
   },
   "file_extension": ".py",
   "mimetype": "text/x-python",
   "name": "python",
   "nbconvert_exporter": "python",
   "pygments_lexer": "ipython3",
   "version": "3.10.12"
  }
 },
 "nbformat": 4,
 "nbformat_minor": 2
}
