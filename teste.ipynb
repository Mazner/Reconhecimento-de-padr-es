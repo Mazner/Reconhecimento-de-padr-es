{
 "cells": [
  {
   "cell_type": "code",
   "execution_count": 1,
   "metadata": {},
   "outputs": [],
   "source": [
    "import numpy as np"
   ]
  },
  {
   "cell_type": "code",
   "execution_count": 3,
   "metadata": {},
   "outputs": [],
   "source": [
    "file = 'dataset/s4/OpenBCI-RAW-2023-10-24_15-06-30.txt'\n",
    "file2 = 'dataset/s4/OpenBCI-RAW-2023-10-24_15-07-27.txt'\n",
    "file3 = 'dataset/s4/OpenBCI-RAW-2023-10-31_15-27-39.txt'\n",
    "file4 = 'dataset/s4/OpenBCI-RAW-2023-10-31_15-28-51.txt'\n",
    "file5 = 'dataset/s4/OpenBCI-RAW-2023-10-31_15-29-52.txt'\n",
    "file6 = 'dataset/s4/OpenBCI-RAW-2023-10-31_15-30-47.txt'\n",
    "file7 = 'dataset/s4/OpenBCI-RAW-2023-11-28_15-44-34.txt'\n",
    "file8 = 'dataset/s4/OpenBCI-RAW-2023-11-28_15-48-59.txt'\n",
    "file9 = 'dataset/s4/OpenBCI-RAW-2023-11-28_15-50-35.txt'\n",
    "file10 = 'dataset/s4/OpenBCI-RAW-2023-11-28_15-53-44.txt'\n",
    "\n",
    "data = np.loadtxt(file, dtype=float, delimiter=',',skiprows=5,usecols=range(1,9) )"
   ]
  },
  {
   "cell_type": "code",
   "execution_count": 4,
   "metadata": {},
   "outputs": [
    {
     "name": "stdout",
     "output_type": "stream",
     "text": [
      "(1806, 8)\n"
     ]
    }
   ],
   "source": [
    "print(data.shape)"
   ]
  },
  {
   "cell_type": "code",
   "execution_count": null,
   "metadata": {},
   "outputs": [],
   "source": []
  }
 ],
 "metadata": {
  "kernelspec": {
   "display_name": "local",
   "language": "python",
   "name": "python3"
  },
  "language_info": {
   "codemirror_mode": {
    "name": "ipython",
    "version": 3
   },
   "file_extension": ".py",
   "mimetype": "text/x-python",
   "name": "python",
   "nbconvert_exporter": "python",
   "pygments_lexer": "ipython3",
   "version": "3.10.12"
  }
 },
 "nbformat": 4,
 "nbformat_minor": 2
}
